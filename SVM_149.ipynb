{
 "cells": [
  {
   "cell_type": "code",
   "execution_count": 13,
   "id": "2663b476",
   "metadata": {},
   "outputs": [],
   "source": [
    "from sklearn.svm import SVC\n",
    "from sklearn import svm\n",
    "import numpy as np\n"
   ]
  },
  {
   "cell_type": "code",
   "execution_count": 14,
   "id": "474e5964",
   "metadata": {},
   "outputs": [
    {
     "name": "stdout",
     "output_type": "stream",
     "text": [
      "w=  [[ 0.25 -0.25]]\n",
      "b=  [-0.75]\n",
      "Indices of support vectors=  [2 3]\n",
      "Support vectors=  [[ 2.  3.]\n",
      " [ 6. -1.]]\n",
      "No. of support vectors from each class=  [1 1]\n",
      "coefficient of support vectors in decision function=  [[0.0625 0.0625]]\n"
     ]
    }
   ],
   "source": [
    "X=np.array([[3,4],[1,4],[2,3],[6,-1],[7,-1],[5,-3]])\n",
    "y=np.array([-1,-1,-1,1,1,1])\n",
    "\n",
    "l=SVC(C=1e5,kernel='linear')\n",
    "l.fit(X,y)\n",
    "\n",
    "print('w= ',l.coef_)\n",
    "print('b= ',l.intercept_)\n",
    "print('Indices of support vectors= ',l.support_)\n",
    "print('Support vectors= ',l.support_vectors_)\n",
    "print('No. of support vectors from each class= ',l.n_support_)\n",
    "print('coefficient of support vectors in decision function= ',np.abs(l.dual_coef_))"
   ]
  },
  {
   "cell_type": "code",
   "execution_count": 15,
   "id": "4c63d268",
   "metadata": {},
   "outputs": [
    {
     "data": {
      "text/html": [
       "<div>\n",
       "<style scoped>\n",
       "    .dataframe tbody tr th:only-of-type {\n",
       "        vertical-align: middle;\n",
       "    }\n",
       "\n",
       "    .dataframe tbody tr th {\n",
       "        vertical-align: top;\n",
       "    }\n",
       "\n",
       "    .dataframe thead th {\n",
       "        text-align: right;\n",
       "    }\n",
       "</style>\n",
       "<table border=\"1\" class=\"dataframe\">\n",
       "  <thead>\n",
       "    <tr style=\"text-align: right;\">\n",
       "      <th></th>\n",
       "      <th>age</th>\n",
       "      <th>sex</th>\n",
       "      <th>cp</th>\n",
       "      <th>trestbps</th>\n",
       "      <th>chol</th>\n",
       "      <th>fbs</th>\n",
       "      <th>restecg</th>\n",
       "      <th>thalach</th>\n",
       "      <th>exang</th>\n",
       "      <th>oldpeak</th>\n",
       "      <th>slope</th>\n",
       "      <th>ca</th>\n",
       "      <th>thal</th>\n",
       "      <th>target</th>\n",
       "    </tr>\n",
       "  </thead>\n",
       "  <tbody>\n",
       "    <tr>\n",
       "      <th>0</th>\n",
       "      <td>63</td>\n",
       "      <td>1</td>\n",
       "      <td>3</td>\n",
       "      <td>145</td>\n",
       "      <td>233</td>\n",
       "      <td>1</td>\n",
       "      <td>0</td>\n",
       "      <td>150</td>\n",
       "      <td>0</td>\n",
       "      <td>2.3</td>\n",
       "      <td>0</td>\n",
       "      <td>0</td>\n",
       "      <td>1</td>\n",
       "      <td>1</td>\n",
       "    </tr>\n",
       "    <tr>\n",
       "      <th>1</th>\n",
       "      <td>37</td>\n",
       "      <td>1</td>\n",
       "      <td>2</td>\n",
       "      <td>130</td>\n",
       "      <td>250</td>\n",
       "      <td>0</td>\n",
       "      <td>1</td>\n",
       "      <td>187</td>\n",
       "      <td>0</td>\n",
       "      <td>3.5</td>\n",
       "      <td>0</td>\n",
       "      <td>0</td>\n",
       "      <td>2</td>\n",
       "      <td>1</td>\n",
       "    </tr>\n",
       "    <tr>\n",
       "      <th>2</th>\n",
       "      <td>41</td>\n",
       "      <td>0</td>\n",
       "      <td>1</td>\n",
       "      <td>130</td>\n",
       "      <td>204</td>\n",
       "      <td>0</td>\n",
       "      <td>0</td>\n",
       "      <td>172</td>\n",
       "      <td>0</td>\n",
       "      <td>1.4</td>\n",
       "      <td>2</td>\n",
       "      <td>0</td>\n",
       "      <td>2</td>\n",
       "      <td>1</td>\n",
       "    </tr>\n",
       "    <tr>\n",
       "      <th>3</th>\n",
       "      <td>56</td>\n",
       "      <td>1</td>\n",
       "      <td>1</td>\n",
       "      <td>120</td>\n",
       "      <td>236</td>\n",
       "      <td>0</td>\n",
       "      <td>1</td>\n",
       "      <td>178</td>\n",
       "      <td>0</td>\n",
       "      <td>0.8</td>\n",
       "      <td>2</td>\n",
       "      <td>0</td>\n",
       "      <td>2</td>\n",
       "      <td>1</td>\n",
       "    </tr>\n",
       "    <tr>\n",
       "      <th>4</th>\n",
       "      <td>57</td>\n",
       "      <td>0</td>\n",
       "      <td>0</td>\n",
       "      <td>120</td>\n",
       "      <td>354</td>\n",
       "      <td>0</td>\n",
       "      <td>1</td>\n",
       "      <td>163</td>\n",
       "      <td>1</td>\n",
       "      <td>0.6</td>\n",
       "      <td>2</td>\n",
       "      <td>0</td>\n",
       "      <td>2</td>\n",
       "      <td>1</td>\n",
       "    </tr>\n",
       "  </tbody>\n",
       "</table>\n",
       "</div>"
      ],
      "text/plain": [
       "   age  sex  cp  trestbps  chol  fbs  restecg  thalach  exang  oldpeak  slope  \\\n",
       "0   63    1   3       145   233    1        0      150      0      2.3      0   \n",
       "1   37    1   2       130   250    0        1      187      0      3.5      0   \n",
       "2   41    0   1       130   204    0        0      172      0      1.4      2   \n",
       "3   56    1   1       120   236    0        1      178      0      0.8      2   \n",
       "4   57    0   0       120   354    0        1      163      1      0.6      2   \n",
       "\n",
       "   ca  thal  target  \n",
       "0   0     1       1  \n",
       "1   0     2       1  \n",
       "2   0     2       1  \n",
       "3   0     2       1  \n",
       "4   0     2       1  "
      ]
     },
     "execution_count": 15,
     "metadata": {},
     "output_type": "execute_result"
    }
   ],
   "source": [
    "import pandas as pd\n",
    "data=pd.read_csv('/home/ignis/B2_heart.csv')\n",
    "data.head()"
   ]
  },
  {
   "cell_type": "code",
   "execution_count": 17,
   "id": "aafe7101",
   "metadata": {},
   "outputs": [],
   "source": [
    "x=data.drop('target',axis=1)\n",
    "y=data.target"
   ]
  },
  {
   "cell_type": "code",
   "execution_count": 18,
   "id": "3b131304",
   "metadata": {},
   "outputs": [],
   "source": [
    "from sklearn.model_selection import train_test_split\n",
    "x_train,x_test,y_train,y_test=train_test_split(x,y,test_size=0.3)"
   ]
  },
  {
   "cell_type": "code",
   "execution_count": 19,
   "id": "f5a859fa",
   "metadata": {},
   "outputs": [
    {
     "data": {
      "text/html": [
       "<style>#sk-container-id-1 {color: black;}#sk-container-id-1 pre{padding: 0;}#sk-container-id-1 div.sk-toggleable {background-color: white;}#sk-container-id-1 label.sk-toggleable__label {cursor: pointer;display: block;width: 100%;margin-bottom: 0;padding: 0.3em;box-sizing: border-box;text-align: center;}#sk-container-id-1 label.sk-toggleable__label-arrow:before {content: \"▸\";float: left;margin-right: 0.25em;color: #696969;}#sk-container-id-1 label.sk-toggleable__label-arrow:hover:before {color: black;}#sk-container-id-1 div.sk-estimator:hover label.sk-toggleable__label-arrow:before {color: black;}#sk-container-id-1 div.sk-toggleable__content {max-height: 0;max-width: 0;overflow: hidden;text-align: left;background-color: #f0f8ff;}#sk-container-id-1 div.sk-toggleable__content pre {margin: 0.2em;color: black;border-radius: 0.25em;background-color: #f0f8ff;}#sk-container-id-1 input.sk-toggleable__control:checked~div.sk-toggleable__content {max-height: 200px;max-width: 100%;overflow: auto;}#sk-container-id-1 input.sk-toggleable__control:checked~label.sk-toggleable__label-arrow:before {content: \"▾\";}#sk-container-id-1 div.sk-estimator input.sk-toggleable__control:checked~label.sk-toggleable__label {background-color: #d4ebff;}#sk-container-id-1 div.sk-label input.sk-toggleable__control:checked~label.sk-toggleable__label {background-color: #d4ebff;}#sk-container-id-1 input.sk-hidden--visually {border: 0;clip: rect(1px 1px 1px 1px);clip: rect(1px, 1px, 1px, 1px);height: 1px;margin: -1px;overflow: hidden;padding: 0;position: absolute;width: 1px;}#sk-container-id-1 div.sk-estimator {font-family: monospace;background-color: #f0f8ff;border: 1px dotted black;border-radius: 0.25em;box-sizing: border-box;margin-bottom: 0.5em;}#sk-container-id-1 div.sk-estimator:hover {background-color: #d4ebff;}#sk-container-id-1 div.sk-parallel-item::after {content: \"\";width: 100%;border-bottom: 1px solid gray;flex-grow: 1;}#sk-container-id-1 div.sk-label:hover label.sk-toggleable__label {background-color: #d4ebff;}#sk-container-id-1 div.sk-serial::before {content: \"\";position: absolute;border-left: 1px solid gray;box-sizing: border-box;top: 0;bottom: 0;left: 50%;z-index: 0;}#sk-container-id-1 div.sk-serial {display: flex;flex-direction: column;align-items: center;background-color: white;padding-right: 0.2em;padding-left: 0.2em;position: relative;}#sk-container-id-1 div.sk-item {position: relative;z-index: 1;}#sk-container-id-1 div.sk-parallel {display: flex;align-items: stretch;justify-content: center;background-color: white;position: relative;}#sk-container-id-1 div.sk-item::before, #sk-container-id-1 div.sk-parallel-item::before {content: \"\";position: absolute;border-left: 1px solid gray;box-sizing: border-box;top: 0;bottom: 0;left: 50%;z-index: -1;}#sk-container-id-1 div.sk-parallel-item {display: flex;flex-direction: column;z-index: 1;position: relative;background-color: white;}#sk-container-id-1 div.sk-parallel-item:first-child::after {align-self: flex-end;width: 50%;}#sk-container-id-1 div.sk-parallel-item:last-child::after {align-self: flex-start;width: 50%;}#sk-container-id-1 div.sk-parallel-item:only-child::after {width: 0;}#sk-container-id-1 div.sk-dashed-wrapped {border: 1px dashed gray;margin: 0 0.4em 0.5em 0.4em;box-sizing: border-box;padding-bottom: 0.4em;background-color: white;}#sk-container-id-1 div.sk-label label {font-family: monospace;font-weight: bold;display: inline-block;line-height: 1.2em;}#sk-container-id-1 div.sk-label-container {text-align: center;}#sk-container-id-1 div.sk-container {/* jupyter's `normalize.less` sets `[hidden] { display: none; }` but bootstrap.min.css set `[hidden] { display: none !important; }` so we also need the `!important` here to be able to override the default hidden behavior on the sphinx rendered scikit-learn.org. See: https://github.com/scikit-learn/scikit-learn/issues/21755 */display: inline-block !important;position: relative;}#sk-container-id-1 div.sk-text-repr-fallback {display: none;}</style><div id=\"sk-container-id-1\" class=\"sk-top-container\"><div class=\"sk-text-repr-fallback\"><pre>SVC(kernel=&#x27;linear&#x27;)</pre><b>In a Jupyter environment, please rerun this cell to show the HTML representation or trust the notebook. <br />On GitHub, the HTML representation is unable to render, please try loading this page with nbviewer.org.</b></div><div class=\"sk-container\" hidden><div class=\"sk-item\"><div class=\"sk-estimator sk-toggleable\"><input class=\"sk-toggleable__control sk-hidden--visually\" id=\"sk-estimator-id-1\" type=\"checkbox\" checked><label for=\"sk-estimator-id-1\" class=\"sk-toggleable__label sk-toggleable__label-arrow\">SVC</label><div class=\"sk-toggleable__content\"><pre>SVC(kernel=&#x27;linear&#x27;)</pre></div></div></div></div></div>"
      ],
      "text/plain": [
       "SVC(kernel='linear')"
      ]
     },
     "execution_count": 19,
     "metadata": {},
     "output_type": "execute_result"
    }
   ],
   "source": [
    "linear=svm.SVC(kernel='linear')\n",
    "linear.fit(x_train,y_train)"
   ]
  },
  {
   "cell_type": "code",
   "execution_count": 20,
   "id": "6cae4f20",
   "metadata": {},
   "outputs": [
    {
     "name": "stdout",
     "output_type": "stream",
     "text": [
      "[[5.20e+01 1.00e+00 0.00e+00 1.28e+02 2.04e+02 1.00e+00 1.00e+00 1.56e+02\n",
      "  1.00e+00 1.00e+00 1.00e+00 0.00e+00 0.00e+00]\n",
      " [6.40e+01 1.00e+00 2.00e+00 1.40e+02 3.35e+02 0.00e+00 1.00e+00 1.58e+02\n",
      "  0.00e+00 0.00e+00 2.00e+00 0.00e+00 2.00e+00]\n",
      " [6.20e+01 0.00e+00 2.00e+00 1.30e+02 2.63e+02 0.00e+00 1.00e+00 9.70e+01\n",
      "  0.00e+00 1.20e+00 1.00e+00 1.00e+00 3.00e+00]\n",
      " [6.50e+01 1.00e+00 3.00e+00 1.38e+02 2.82e+02 1.00e+00 0.00e+00 1.74e+02\n",
      "  0.00e+00 1.40e+00 1.00e+00 1.00e+00 2.00e+00]\n",
      " [4.40e+01 1.00e+00 0.00e+00 1.12e+02 2.90e+02 0.00e+00 0.00e+00 1.53e+02\n",
      "  0.00e+00 0.00e+00 2.00e+00 1.00e+00 2.00e+00]\n",
      " [5.10e+01 0.00e+00 0.00e+00 1.30e+02 3.05e+02 0.00e+00 1.00e+00 1.42e+02\n",
      "  1.00e+00 1.20e+00 1.00e+00 0.00e+00 3.00e+00]\n",
      " [5.70e+01 1.00e+00 2.00e+00 1.28e+02 2.29e+02 0.00e+00 0.00e+00 1.50e+02\n",
      "  0.00e+00 4.00e-01 1.00e+00 1.00e+00 3.00e+00]\n",
      " [6.20e+01 0.00e+00 0.00e+00 1.50e+02 2.44e+02 0.00e+00 1.00e+00 1.54e+02\n",
      "  1.00e+00 1.40e+00 1.00e+00 0.00e+00 2.00e+00]\n",
      " [5.20e+01 1.00e+00 0.00e+00 1.25e+02 2.12e+02 0.00e+00 1.00e+00 1.68e+02\n",
      "  0.00e+00 1.00e+00 2.00e+00 2.00e+00 3.00e+00]\n",
      " [5.90e+01 1.00e+00 2.00e+00 1.26e+02 2.18e+02 1.00e+00 1.00e+00 1.34e+02\n",
      "  0.00e+00 2.20e+00 1.00e+00 1.00e+00 1.00e+00]\n",
      " [4.40e+01 1.00e+00 0.00e+00 1.10e+02 1.97e+02 0.00e+00 0.00e+00 1.77e+02\n",
      "  0.00e+00 0.00e+00 2.00e+00 1.00e+00 2.00e+00]\n",
      " [4.70e+01 1.00e+00 2.00e+00 1.08e+02 2.43e+02 0.00e+00 1.00e+00 1.52e+02\n",
      "  0.00e+00 0.00e+00 2.00e+00 0.00e+00 2.00e+00]\n",
      " [5.20e+01 1.00e+00 0.00e+00 1.12e+02 2.30e+02 0.00e+00 1.00e+00 1.60e+02\n",
      "  0.00e+00 0.00e+00 2.00e+00 1.00e+00 2.00e+00]\n",
      " [4.80e+01 1.00e+00 0.00e+00 1.24e+02 2.74e+02 0.00e+00 0.00e+00 1.66e+02\n",
      "  0.00e+00 5.00e-01 1.00e+00 0.00e+00 3.00e+00]\n",
      " [6.10e+01 1.00e+00 0.00e+00 1.48e+02 2.03e+02 0.00e+00 1.00e+00 1.61e+02\n",
      "  0.00e+00 0.00e+00 2.00e+00 1.00e+00 3.00e+00]\n",
      " [6.00e+01 1.00e+00 2.00e+00 1.40e+02 1.85e+02 0.00e+00 0.00e+00 1.55e+02\n",
      "  0.00e+00 3.00e+00 1.00e+00 0.00e+00 2.00e+00]\n",
      " [5.80e+01 1.00e+00 0.00e+00 1.25e+02 3.00e+02 0.00e+00 0.00e+00 1.71e+02\n",
      "  0.00e+00 0.00e+00 2.00e+00 2.00e+00 3.00e+00]\n",
      " [5.20e+01 1.00e+00 0.00e+00 1.28e+02 2.55e+02 0.00e+00 1.00e+00 1.61e+02\n",
      "  1.00e+00 0.00e+00 2.00e+00 1.00e+00 3.00e+00]\n",
      " [6.50e+01 1.00e+00 0.00e+00 1.10e+02 2.48e+02 0.00e+00 0.00e+00 1.58e+02\n",
      "  0.00e+00 6.00e-01 2.00e+00 2.00e+00 1.00e+00]\n",
      " [5.80e+01 1.00e+00 0.00e+00 1.00e+02 2.34e+02 0.00e+00 1.00e+00 1.56e+02\n",
      "  0.00e+00 1.00e-01 2.00e+00 1.00e+00 3.00e+00]\n",
      " [6.30e+01 0.00e+00 0.00e+00 1.24e+02 1.97e+02 0.00e+00 1.00e+00 1.36e+02\n",
      "  1.00e+00 0.00e+00 1.00e+00 0.00e+00 2.00e+00]\n",
      " [5.80e+01 1.00e+00 2.00e+00 1.32e+02 2.24e+02 0.00e+00 0.00e+00 1.73e+02\n",
      "  0.00e+00 3.20e+00 2.00e+00 2.00e+00 3.00e+00]\n",
      " [4.90e+01 1.00e+00 2.00e+00 1.20e+02 1.88e+02 0.00e+00 1.00e+00 1.39e+02\n",
      "  0.00e+00 2.00e+00 1.00e+00 3.00e+00 3.00e+00]\n",
      " [3.50e+01 1.00e+00 0.00e+00 1.26e+02 2.82e+02 0.00e+00 0.00e+00 1.56e+02\n",
      "  1.00e+00 0.00e+00 2.00e+00 0.00e+00 3.00e+00]\n",
      " [4.50e+01 1.00e+00 3.00e+00 1.10e+02 2.64e+02 0.00e+00 1.00e+00 1.32e+02\n",
      "  0.00e+00 1.20e+00 1.00e+00 0.00e+00 3.00e+00]\n",
      " [6.10e+01 0.00e+00 0.00e+00 1.30e+02 3.30e+02 0.00e+00 0.00e+00 1.69e+02\n",
      "  0.00e+00 0.00e+00 2.00e+00 0.00e+00 2.00e+00]\n",
      " [6.30e+01 0.00e+00 0.00e+00 1.08e+02 2.69e+02 0.00e+00 1.00e+00 1.69e+02\n",
      "  1.00e+00 1.80e+00 1.00e+00 2.00e+00 2.00e+00]\n",
      " [5.70e+01 1.00e+00 1.00e+00 1.54e+02 2.32e+02 0.00e+00 0.00e+00 1.64e+02\n",
      "  0.00e+00 0.00e+00 2.00e+00 1.00e+00 2.00e+00]\n",
      " [5.00e+01 1.00e+00 2.00e+00 1.40e+02 2.33e+02 0.00e+00 1.00e+00 1.63e+02\n",
      "  0.00e+00 6.00e-01 1.00e+00 1.00e+00 3.00e+00]\n",
      " [4.90e+01 1.00e+00 2.00e+00 1.18e+02 1.49e+02 0.00e+00 0.00e+00 1.26e+02\n",
      "  0.00e+00 8.00e-01 2.00e+00 3.00e+00 2.00e+00]\n",
      " [5.70e+01 0.00e+00 0.00e+00 1.40e+02 2.41e+02 0.00e+00 1.00e+00 1.23e+02\n",
      "  1.00e+00 2.00e-01 1.00e+00 0.00e+00 3.00e+00]\n",
      " [6.70e+01 1.00e+00 0.00e+00 1.25e+02 2.54e+02 1.00e+00 1.00e+00 1.63e+02\n",
      "  0.00e+00 2.00e-01 1.00e+00 2.00e+00 3.00e+00]\n",
      " [5.70e+01 1.00e+00 1.00e+00 1.24e+02 2.61e+02 0.00e+00 1.00e+00 1.41e+02\n",
      "  0.00e+00 3.00e-01 2.00e+00 0.00e+00 3.00e+00]\n",
      " [6.70e+01 1.00e+00 2.00e+00 1.52e+02 2.12e+02 0.00e+00 0.00e+00 1.50e+02\n",
      "  0.00e+00 8.00e-01 1.00e+00 0.00e+00 3.00e+00]\n",
      " [5.60e+01 1.00e+00 2.00e+00 1.30e+02 2.56e+02 1.00e+00 0.00e+00 1.42e+02\n",
      "  1.00e+00 6.00e-01 1.00e+00 1.00e+00 1.00e+00]\n",
      " [5.90e+01 1.00e+00 3.00e+00 1.60e+02 2.73e+02 0.00e+00 0.00e+00 1.25e+02\n",
      "  0.00e+00 0.00e+00 2.00e+00 0.00e+00 2.00e+00]\n",
      " [5.80e+01 0.00e+00 0.00e+00 1.30e+02 1.97e+02 0.00e+00 1.00e+00 1.31e+02\n",
      "  0.00e+00 6.00e-01 1.00e+00 0.00e+00 2.00e+00]\n",
      " [5.40e+01 1.00e+00 2.00e+00 1.25e+02 2.73e+02 0.00e+00 0.00e+00 1.52e+02\n",
      "  0.00e+00 5.00e-01 0.00e+00 1.00e+00 2.00e+00]\n",
      " [6.70e+01 0.00e+00 2.00e+00 1.15e+02 5.64e+02 0.00e+00 0.00e+00 1.60e+02\n",
      "  0.00e+00 1.60e+00 1.00e+00 0.00e+00 3.00e+00]\n",
      " [5.20e+01 1.00e+00 0.00e+00 1.08e+02 2.33e+02 1.00e+00 1.00e+00 1.47e+02\n",
      "  0.00e+00 1.00e-01 2.00e+00 3.00e+00 3.00e+00]\n",
      " [6.20e+01 1.00e+00 2.00e+00 1.30e+02 2.31e+02 0.00e+00 1.00e+00 1.46e+02\n",
      "  0.00e+00 1.80e+00 1.00e+00 3.00e+00 3.00e+00]\n",
      " [3.80e+01 1.00e+00 2.00e+00 1.38e+02 1.75e+02 0.00e+00 1.00e+00 1.73e+02\n",
      "  0.00e+00 0.00e+00 2.00e+00 4.00e+00 2.00e+00]\n",
      " [7.40e+01 0.00e+00 1.00e+00 1.20e+02 2.69e+02 0.00e+00 0.00e+00 1.21e+02\n",
      "  1.00e+00 2.00e-01 2.00e+00 1.00e+00 2.00e+00]\n",
      " [5.70e+01 1.00e+00 0.00e+00 1.40e+02 1.92e+02 0.00e+00 1.00e+00 1.48e+02\n",
      "  0.00e+00 4.00e-01 1.00e+00 0.00e+00 1.00e+00]\n",
      " [5.90e+01 1.00e+00 1.00e+00 1.40e+02 2.21e+02 0.00e+00 1.00e+00 1.64e+02\n",
      "  1.00e+00 0.00e+00 2.00e+00 0.00e+00 2.00e+00]\n",
      " [6.50e+01 1.00e+00 0.00e+00 1.20e+02 1.77e+02 0.00e+00 1.00e+00 1.40e+02\n",
      "  0.00e+00 4.00e-01 2.00e+00 0.00e+00 3.00e+00]\n",
      " [5.20e+01 1.00e+00 2.00e+00 1.72e+02 1.99e+02 1.00e+00 1.00e+00 1.62e+02\n",
      "  0.00e+00 5.00e-01 2.00e+00 0.00e+00 3.00e+00]\n",
      " [5.80e+01 1.00e+00 2.00e+00 1.05e+02 2.40e+02 0.00e+00 0.00e+00 1.54e+02\n",
      "  1.00e+00 6.00e-01 1.00e+00 0.00e+00 3.00e+00]\n",
      " [3.80e+01 1.00e+00 2.00e+00 1.38e+02 1.75e+02 0.00e+00 1.00e+00 1.73e+02\n",
      "  0.00e+00 0.00e+00 2.00e+00 4.00e+00 2.00e+00]\n",
      " [6.40e+01 0.00e+00 0.00e+00 1.80e+02 3.25e+02 0.00e+00 1.00e+00 1.54e+02\n",
      "  1.00e+00 0.00e+00 2.00e+00 0.00e+00 2.00e+00]\n",
      " [5.40e+01 1.00e+00 2.00e+00 1.20e+02 2.58e+02 0.00e+00 0.00e+00 1.47e+02\n",
      "  0.00e+00 4.00e-01 1.00e+00 0.00e+00 3.00e+00]\n",
      " [6.80e+01 1.00e+00 2.00e+00 1.18e+02 2.77e+02 0.00e+00 1.00e+00 1.51e+02\n",
      "  0.00e+00 1.00e+00 2.00e+00 1.00e+00 3.00e+00]\n",
      " [5.30e+01 1.00e+00 2.00e+00 1.30e+02 1.97e+02 1.00e+00 0.00e+00 1.52e+02\n",
      "  0.00e+00 1.20e+00 0.00e+00 0.00e+00 2.00e+00]\n",
      " [5.60e+01 1.00e+00 1.00e+00 1.30e+02 2.21e+02 0.00e+00 0.00e+00 1.63e+02\n",
      "  0.00e+00 0.00e+00 2.00e+00 0.00e+00 3.00e+00]\n",
      " [4.20e+01 0.00e+00 0.00e+00 1.02e+02 2.65e+02 0.00e+00 0.00e+00 1.22e+02\n",
      "  0.00e+00 6.00e-01 1.00e+00 0.00e+00 2.00e+00]\n",
      " [6.40e+01 0.00e+00 0.00e+00 1.30e+02 3.03e+02 0.00e+00 1.00e+00 1.22e+02\n",
      "  0.00e+00 2.00e+00 1.00e+00 2.00e+00 2.00e+00]\n",
      " [5.90e+01 1.00e+00 0.00e+00 1.35e+02 2.34e+02 0.00e+00 1.00e+00 1.61e+02\n",
      "  0.00e+00 5.00e-01 1.00e+00 0.00e+00 3.00e+00]\n",
      " [5.20e+01 1.00e+00 2.00e+00 1.38e+02 2.23e+02 0.00e+00 1.00e+00 1.69e+02\n",
      "  0.00e+00 0.00e+00 2.00e+00 4.00e+00 2.00e+00]\n",
      " [6.70e+01 0.00e+00 0.00e+00 1.06e+02 2.23e+02 0.00e+00 1.00e+00 1.42e+02\n",
      "  0.00e+00 3.00e-01 2.00e+00 2.00e+00 2.00e+00]\n",
      " [5.70e+01 0.00e+00 0.00e+00 1.28e+02 3.03e+02 0.00e+00 0.00e+00 1.59e+02\n",
      "  0.00e+00 0.00e+00 2.00e+00 1.00e+00 2.00e+00]\n",
      " [6.10e+01 1.00e+00 2.00e+00 1.50e+02 2.43e+02 1.00e+00 1.00e+00 1.37e+02\n",
      "  1.00e+00 1.00e+00 1.00e+00 0.00e+00 2.00e+00]\n",
      " [5.30e+01 0.00e+00 0.00e+00 1.30e+02 2.64e+02 0.00e+00 0.00e+00 1.43e+02\n",
      "  0.00e+00 4.00e-01 1.00e+00 0.00e+00 2.00e+00]\n",
      " [5.10e+01 1.00e+00 2.00e+00 1.25e+02 2.45e+02 1.00e+00 0.00e+00 1.66e+02\n",
      "  0.00e+00 2.40e+00 1.00e+00 0.00e+00 2.00e+00]\n",
      " [4.30e+01 1.00e+00 0.00e+00 1.10e+02 2.11e+02 0.00e+00 1.00e+00 1.61e+02\n",
      "  0.00e+00 0.00e+00 2.00e+00 0.00e+00 3.00e+00]\n",
      " [5.60e+01 1.00e+00 3.00e+00 1.20e+02 1.93e+02 0.00e+00 0.00e+00 1.62e+02\n",
      "  0.00e+00 1.90e+00 1.00e+00 0.00e+00 3.00e+00]\n",
      " [5.90e+01 1.00e+00 0.00e+00 1.38e+02 2.71e+02 0.00e+00 0.00e+00 1.82e+02\n",
      "  0.00e+00 0.00e+00 2.00e+00 0.00e+00 2.00e+00]\n",
      " [5.40e+01 1.00e+00 0.00e+00 1.40e+02 2.39e+02 0.00e+00 1.00e+00 1.60e+02\n",
      "  0.00e+00 1.20e+00 2.00e+00 0.00e+00 2.00e+00]\n",
      " [6.90e+01 1.00e+00 3.00e+00 1.60e+02 2.34e+02 1.00e+00 0.00e+00 1.31e+02\n",
      "  0.00e+00 1.00e-01 1.00e+00 1.00e+00 2.00e+00]\n",
      " [6.20e+01 1.00e+00 1.00e+00 1.28e+02 2.08e+02 1.00e+00 0.00e+00 1.40e+02\n",
      "  0.00e+00 0.00e+00 2.00e+00 0.00e+00 2.00e+00]\n",
      " [4.30e+01 1.00e+00 0.00e+00 1.15e+02 3.03e+02 0.00e+00 1.00e+00 1.81e+02\n",
      "  0.00e+00 1.20e+00 1.00e+00 0.00e+00 2.00e+00]\n",
      " [5.10e+01 1.00e+00 0.00e+00 1.40e+02 2.61e+02 0.00e+00 0.00e+00 1.86e+02\n",
      "  1.00e+00 0.00e+00 2.00e+00 0.00e+00 2.00e+00]\n",
      " [5.10e+01 1.00e+00 3.00e+00 1.25e+02 2.13e+02 0.00e+00 0.00e+00 1.25e+02\n",
      "  1.00e+00 1.40e+00 2.00e+00 1.00e+00 2.00e+00]\n",
      " [5.70e+01 1.00e+00 0.00e+00 1.10e+02 2.01e+02 0.00e+00 1.00e+00 1.26e+02\n",
      "  1.00e+00 1.50e+00 1.00e+00 0.00e+00 1.00e+00]\n",
      " [5.20e+01 1.00e+00 1.00e+00 1.34e+02 2.01e+02 0.00e+00 1.00e+00 1.58e+02\n",
      "  0.00e+00 8.00e-01 2.00e+00 1.00e+00 2.00e+00]]\n",
      "[36 38]\n"
     ]
    }
   ],
   "source": [
    "print(linear.support_vectors_)\n",
    "\n",
    "print(linear.n_support_)"
   ]
  },
  {
   "cell_type": "code",
   "execution_count": 21,
   "id": "b14f093f",
   "metadata": {},
   "outputs": [],
   "source": [
    "y_pred=linear.predict(x_test)\n"
   ]
  },
  {
   "cell_type": "code",
   "execution_count": 22,
   "id": "890ff82e",
   "metadata": {},
   "outputs": [
    {
     "name": "stdout",
     "output_type": "stream",
     "text": [
      "0.7912087912087912\n"
     ]
    }
   ],
   "source": [
    "\n",
    "from sklearn.metrics import accuracy_score\n",
    "print(accuracy_score(y_test,y_pred))"
   ]
  },
  {
   "cell_type": "code",
   "execution_count": 23,
   "id": "44e85994",
   "metadata": {},
   "outputs": [
    {
     "name": "stdout",
     "output_type": "stream",
     "text": [
      "[[30 11]\n",
      " [ 8 42]]\n"
     ]
    }
   ],
   "source": [
    "from sklearn.metrics import confusion_matrix\n",
    "print(confusion_matrix(y_test,y_pred))"
   ]
  },
  {
   "cell_type": "code",
   "execution_count": 24,
   "id": "c16f4e5c",
   "metadata": {},
   "outputs": [
    {
     "name": "stdout",
     "output_type": "stream",
     "text": [
      "              precision    recall  f1-score   support\n",
      "\n",
      "           0       0.79      0.73      0.76        41\n",
      "           1       0.79      0.84      0.82        50\n",
      "\n",
      "    accuracy                           0.79        91\n",
      "   macro avg       0.79      0.79      0.79        91\n",
      "weighted avg       0.79      0.79      0.79        91\n",
      "\n"
     ]
    }
   ],
   "source": [
    "from sklearn.metrics import classification_report\n",
    "print(classification_report(y_test,y_pred))"
   ]
  },
  {
   "cell_type": "code",
   "execution_count": 25,
   "id": "b186f0a6",
   "metadata": {},
   "outputs": [],
   "source": [
    "model1=SVC(kernel='sigmoid')\n",
    "model2=SVC(kernel='poly')\n",
    "model3=SVC(kernel='rbf')\n"
   ]
  },
  {
   "cell_type": "code",
   "execution_count": 26,
   "id": "cd6a507a",
   "metadata": {},
   "outputs": [
    {
     "data": {
      "text/html": [
       "<style>#sk-container-id-2 {color: black;}#sk-container-id-2 pre{padding: 0;}#sk-container-id-2 div.sk-toggleable {background-color: white;}#sk-container-id-2 label.sk-toggleable__label {cursor: pointer;display: block;width: 100%;margin-bottom: 0;padding: 0.3em;box-sizing: border-box;text-align: center;}#sk-container-id-2 label.sk-toggleable__label-arrow:before {content: \"▸\";float: left;margin-right: 0.25em;color: #696969;}#sk-container-id-2 label.sk-toggleable__label-arrow:hover:before {color: black;}#sk-container-id-2 div.sk-estimator:hover label.sk-toggleable__label-arrow:before {color: black;}#sk-container-id-2 div.sk-toggleable__content {max-height: 0;max-width: 0;overflow: hidden;text-align: left;background-color: #f0f8ff;}#sk-container-id-2 div.sk-toggleable__content pre {margin: 0.2em;color: black;border-radius: 0.25em;background-color: #f0f8ff;}#sk-container-id-2 input.sk-toggleable__control:checked~div.sk-toggleable__content {max-height: 200px;max-width: 100%;overflow: auto;}#sk-container-id-2 input.sk-toggleable__control:checked~label.sk-toggleable__label-arrow:before {content: \"▾\";}#sk-container-id-2 div.sk-estimator input.sk-toggleable__control:checked~label.sk-toggleable__label {background-color: #d4ebff;}#sk-container-id-2 div.sk-label input.sk-toggleable__control:checked~label.sk-toggleable__label {background-color: #d4ebff;}#sk-container-id-2 input.sk-hidden--visually {border: 0;clip: rect(1px 1px 1px 1px);clip: rect(1px, 1px, 1px, 1px);height: 1px;margin: -1px;overflow: hidden;padding: 0;position: absolute;width: 1px;}#sk-container-id-2 div.sk-estimator {font-family: monospace;background-color: #f0f8ff;border: 1px dotted black;border-radius: 0.25em;box-sizing: border-box;margin-bottom: 0.5em;}#sk-container-id-2 div.sk-estimator:hover {background-color: #d4ebff;}#sk-container-id-2 div.sk-parallel-item::after {content: \"\";width: 100%;border-bottom: 1px solid gray;flex-grow: 1;}#sk-container-id-2 div.sk-label:hover label.sk-toggleable__label {background-color: #d4ebff;}#sk-container-id-2 div.sk-serial::before {content: \"\";position: absolute;border-left: 1px solid gray;box-sizing: border-box;top: 0;bottom: 0;left: 50%;z-index: 0;}#sk-container-id-2 div.sk-serial {display: flex;flex-direction: column;align-items: center;background-color: white;padding-right: 0.2em;padding-left: 0.2em;position: relative;}#sk-container-id-2 div.sk-item {position: relative;z-index: 1;}#sk-container-id-2 div.sk-parallel {display: flex;align-items: stretch;justify-content: center;background-color: white;position: relative;}#sk-container-id-2 div.sk-item::before, #sk-container-id-2 div.sk-parallel-item::before {content: \"\";position: absolute;border-left: 1px solid gray;box-sizing: border-box;top: 0;bottom: 0;left: 50%;z-index: -1;}#sk-container-id-2 div.sk-parallel-item {display: flex;flex-direction: column;z-index: 1;position: relative;background-color: white;}#sk-container-id-2 div.sk-parallel-item:first-child::after {align-self: flex-end;width: 50%;}#sk-container-id-2 div.sk-parallel-item:last-child::after {align-self: flex-start;width: 50%;}#sk-container-id-2 div.sk-parallel-item:only-child::after {width: 0;}#sk-container-id-2 div.sk-dashed-wrapped {border: 1px dashed gray;margin: 0 0.4em 0.5em 0.4em;box-sizing: border-box;padding-bottom: 0.4em;background-color: white;}#sk-container-id-2 div.sk-label label {font-family: monospace;font-weight: bold;display: inline-block;line-height: 1.2em;}#sk-container-id-2 div.sk-label-container {text-align: center;}#sk-container-id-2 div.sk-container {/* jupyter's `normalize.less` sets `[hidden] { display: none; }` but bootstrap.min.css set `[hidden] { display: none !important; }` so we also need the `!important` here to be able to override the default hidden behavior on the sphinx rendered scikit-learn.org. See: https://github.com/scikit-learn/scikit-learn/issues/21755 */display: inline-block !important;position: relative;}#sk-container-id-2 div.sk-text-repr-fallback {display: none;}</style><div id=\"sk-container-id-2\" class=\"sk-top-container\"><div class=\"sk-text-repr-fallback\"><pre>SVC()</pre><b>In a Jupyter environment, please rerun this cell to show the HTML representation or trust the notebook. <br />On GitHub, the HTML representation is unable to render, please try loading this page with nbviewer.org.</b></div><div class=\"sk-container\" hidden><div class=\"sk-item\"><div class=\"sk-estimator sk-toggleable\"><input class=\"sk-toggleable__control sk-hidden--visually\" id=\"sk-estimator-id-2\" type=\"checkbox\" checked><label for=\"sk-estimator-id-2\" class=\"sk-toggleable__label sk-toggleable__label-arrow\">SVC</label><div class=\"sk-toggleable__content\"><pre>SVC()</pre></div></div></div></div></div>"
      ],
      "text/plain": [
       "SVC()"
      ]
     },
     "execution_count": 26,
     "metadata": {},
     "output_type": "execute_result"
    }
   ],
   "source": [
    "\n",
    "model1.fit(x_train,y_train)\n",
    "model2.fit(x_train,y_train)\n",
    "model3.fit(x_train,y_train)"
   ]
  },
  {
   "cell_type": "code",
   "execution_count": 27,
   "id": "71284be2",
   "metadata": {},
   "outputs": [],
   "source": [
    "y_pred1=model1.predict(x_test)\n",
    "y_pred2=model2.predict(x_test)\n",
    "y_pred3=model3.predict(x_test)"
   ]
  },
  {
   "cell_type": "code",
   "execution_count": 28,
   "id": "e53f0b3a",
   "metadata": {},
   "outputs": [
    {
     "name": "stdout",
     "output_type": "stream",
     "text": [
      "prediction by model1  0.5494505494505495\n",
      "prediction by model2 0.6483516483516484\n",
      "prediction by model3 0.5494505494505495\n"
     ]
    }
   ],
   "source": [
    "print(\"prediction by model1 \",accuracy_score(y_test,y_pred1))\n",
    "print(\"prediction by model2\",accuracy_score(y_test,y_pred2))\n",
    "print(\"prediction by model3\",accuracy_score(y_test,y_pred1))"
   ]
  },
  {
   "cell_type": "code",
   "execution_count": null,
   "id": "e4d5dbb2",
   "metadata": {},
   "outputs": [],
   "source": []
  },
  {
   "cell_type": "code",
   "execution_count": null,
   "id": "88c207ab",
   "metadata": {},
   "outputs": [],
   "source": []
  }
 ],
 "metadata": {
  "kernelspec": {
   "display_name": "Python 3 (ipykernel)",
   "language": "python",
   "name": "python3"
  },
  "language_info": {
   "codemirror_mode": {
    "name": "ipython",
    "version": 3
   },
   "file_extension": ".py",
   "mimetype": "text/x-python",
   "name": "python",
   "nbconvert_exporter": "python",
   "pygments_lexer": "ipython3",
   "version": "3.10.12"
  }
 },
 "nbformat": 4,
 "nbformat_minor": 5
}
